{
 "cells": [
  {
   "cell_type": "markdown",
   "id": "8548971c-5462-446d-891b-1f9cc3da5458",
   "metadata": {},
   "source": [
    "# ***Data Science com Python***"
   ]
  },
  {
   "cell_type": "code",
   "execution_count": null,
   "id": "293e0e6e-e587-4774-9790-5b5d82d3e2f6",
   "metadata": {},
   "outputs": [],
   "source": []
  }
 ],
 "metadata": {
  "kernelspec": {
   "display_name": "Python 3 (ipykernel)",
   "language": "python",
   "name": "python3"
  },
  "language_info": {
   "codemirror_mode": {
    "name": "ipython",
    "version": 3
   },
   "file_extension": ".py",
   "mimetype": "text/x-python",
   "name": "python",
   "nbconvert_exporter": "python",
   "pygments_lexer": "ipython3",
   "version": "3.8.13"
  }
 },
 "nbformat": 4,
 "nbformat_minor": 5
}
